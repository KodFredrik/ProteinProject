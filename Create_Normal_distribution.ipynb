{
 "cells": [
  {
   "cell_type": "code",
   "execution_count": 1,
   "id": "c9ff276a",
   "metadata": {},
   "outputs": [],
   "source": [
    "import random\n",
    "import numpy as np\n",
    "import matplotlib.pyplot as plt\n"
   ]
  },
  {
   "cell_type": "code",
   "execution_count": 2,
   "id": "c33fa53a",
   "metadata": {},
   "outputs": [
    {
     "name": "stdout",
     "output_type": "stream",
     "text": [
      "Averaged value of SigmaX^2 is: 0.08313022001366963\n",
      "Averaged value of SigmaX is: 0.2883231173764421\n",
      "Sigma^2 = n*SigmaX^2 is: 0.08333333333333331\n",
      "Sigma = sqrt(n)*SigmaX is: 0.28867513459481287\n"
     ]
    },
    {
     "data": {
      "image/png": "[encoded data removed]",
      "text/plain": [
       "<Figure size 432x288 with 1 Axes>"
      ]
     },
     "metadata": {
      "needs_background": "light"
     },
     "output_type": "display_data"
    }
   ],
   "source": [
    "#This is a code to convince ourselves that the central limit theorem does what is says\n",
    "n = 100000\n",
    "def transl_amount(n):\n",
    "    x = 0\n",
    "    var = 0\n",
    "    for i in range(n):\n",
    "        rand = random.uniform(0,1)\n",
    "        var += (rand - 0.5) ** 2\n",
    "        x += rand\n",
    "    transl = x/n\n",
    "    variance = var/n\n",
    "    return transl , variance\n",
    "\n",
    "#m in this case is the number of proteins, or instances of translation\n",
    "m = 1\n",
    "buckets = np.linspace(-5,5,100)\n",
    "counter = np.zeros(100)\n",
    "\n",
    "sigma = np.sqrt(1/12)\n",
    "sigmaX = sigma/np.sqrt(n)\n",
    "varians = 0\n",
    "for i in range(m):\n",
    "    tal, variance = transl_amount(n)\n",
    "    varians += variance\n",
    "    for j in range(len(buckets)-1):\n",
    "        if buckets[j] <= (tal-0.5)/sigmaX <= buckets[j+1]:\n",
    "            counter[j] += 1\n",
    "V = varians/m\n",
    "plt.figure()\n",
    "plt.plot(buckets,np.divide(counter,m))\n",
    "\n",
    "print(f'Averaged value of SigmaX^2 is: {V}')\n",
    "print(f'Averaged value of SigmaX is: {np.sqrt(V)}')\n",
    "print(f'Sigma^2 = n*SigmaX^2 is: {n*sigmaX**2}')\n",
    "print(f'Sigma = sqrt(n)*SigmaX is: {np.sqrt(n)*sigmaX}')\n",
    "#The results show that n=10000 and m=1 is sufficient for 3 decimal places accuracy of the variance and std."
   ]
  },
  {
   "cell_type": "code",
   "execution_count": 156,
   "id": "782c1951",
   "metadata": {},
   "outputs": [
    {
     "data": {
      "text/plain": [
       "0.08295685594877705"
      ]
     },
     "execution_count": 156,
     "metadata": {},
     "output_type": "execute_result"
    }
   ],
   "source": [
    "variance"
   ]
  },
  {
   "cell_type": "code",
   "execution_count": 151,
   "id": "70c19f9b",
   "metadata": {},
   "outputs": [
    {
     "name": "stdout",
     "output_type": "stream",
     "text": [
      "SigmaX^2 is: 8.333333333333332e-06\n",
      "SigmaX is: 0.0028867513459481286\n"
     ]
    }
   ],
   "source": [
    "print(f'SigmaX^2 is: {sigmaX**2}')\n",
    "print(f'SigmaX is: {sigmaX}')"
   ]
  },
  {
   "cell_type": "code",
   "execution_count": 3,
   "id": "29111d95",
   "metadata": {},
   "outputs": [
    {
     "name": "stdout",
     "output_type": "stream",
     "text": [
      "The real variance is: 8.333333333333332e-06\n",
      "The real std is: 0.0028867513459481286\n",
      "The average variance is: 8.45332785800383e-06\n",
      "The average std is: 0.002907460723381114\n",
      "The variance quotient is: 1.0143993429604596\n",
      "The std quotient is: 1.00717393878141\n"
     ]
    },
    {
     "data": {
      "image/png": "[encoded data removed]",
      "text/plain": [
       "<Figure size 432x288 with 1 Axes>"
      ]
     },
     "metadata": {
      "needs_background": "light"
     },
     "output_type": "display_data"
    }
   ],
   "source": [
    "#Here the average variance of the collection of sample means are computed\n",
    "n = 10000\n",
    "def transl_amount(n):\n",
    "    x = 0\n",
    "    var = 0\n",
    "    for i in range(n):\n",
    "        rand = random.uniform(0,1)\n",
    "        x += rand\n",
    "    transl = x/n\n",
    "    return transl\n",
    "\n",
    "m = 10000\n",
    "buckets = np.linspace(-5,5,100)\n",
    "counter = np.zeros(100)\n",
    "sigma = np.sqrt(1/12)\n",
    "sigmaX = sigma/np.sqrt(n)\n",
    "varians =  []\n",
    "for i in range(m):\n",
    "    tal = transl_amount(n)\n",
    "    #Calculate variance of sample mean, scale by sigmaX\n",
    "    var = (tal-0.5)**2\n",
    "    varians.append(var)\n",
    "    #Make histogram\n",
    "    for j in range(len(buckets)-1):\n",
    "        if buckets[j] <= (tal-0.5)/sigmaX <= buckets[j+1]:\n",
    "            counter[j] += 1\n",
    "#Average variance of sample mean\n",
    "AvgVariance = sum(varians)/m\n",
    "plt.figure()\n",
    "plt.plot(buckets,np.divide(counter,m))\n",
    "#The results show that there is a rather big discrepancy between the sample std and the\n",
    "#limit std for only 16 proteins, but also the difference disappears as m increases.\n",
    "print(f'The real variance is: {sigmaX**2}')\n",
    "print(f'The real std is: {sigmaX}')\n",
    "print(f'The average variance is: {AvgVariance}')\n",
    "print(f'The average std is: {np.sqrt(AvgVariance)}')\n",
    "print(f'The variance quotient is: {AvgVariance/(sigmaX**2)}')\n",
    "print(f'The std quotient is: {np.sqrt(AvgVariance/(sigmaX**2))}')"
   ]
  },
  {
   "cell_type": "code",
   "execution_count": 254,
   "id": "412fa621",
   "metadata": {},
   "outputs": [
    {
     "data": {
      "text/plain": [
       "0.9982980529167298"
      ]
     },
     "execution_count": 254,
     "metadata": {},
     "output_type": "execute_result"
    }
   ],
   "source": [
    "V"
   ]
  },
  {
   "cell_type": "code",
   "execution_count": 246,
   "id": "a0a7ce31",
   "metadata": {},
   "outputs": [
    {
     "data": {
      "text/plain": [
       "0.0028867513459481286"
      ]
     },
     "execution_count": 246,
     "metadata": {},
     "output_type": "execute_result"
    }
   ],
   "source": [
    "sigmaX"
   ]
  },
  {
   "cell_type": "code",
   "execution_count": 251,
   "id": "1b941115",
   "metadata": {},
   "outputs": [
    {
     "data": {
      "text/plain": [
       "0.24421165083117422"
      ]
     },
     "execution_count": 251,
     "metadata": {},
     "output_type": "execute_result"
    }
   ],
   "source": [
    "(tal-0.5)/sigmaX"
   ]
  },
  {
   "cell_type": "code",
   "execution_count": null,
   "id": "92517d55",
   "metadata": {},
   "outputs": [],
   "source": []
  }
 ],
 "metadata": {
  "kernelspec": {
   "display_name": "Python 3",
   "language": "python",
   "name": "python3"
  },
  "language_info": {
   "codemirror_mode": {
    "name": "ipython",
    "version": 3
   },
   "file_extension": ".py",
   "mimetype": "text/x-python",
   "name": "python",
   "nbconvert_exporter": "python",
   "pygments_lexer": "ipython3",
   "version": "3.7.10"
  }
 },
 "nbformat": 4,
 "nbformat_minor": 5
}
